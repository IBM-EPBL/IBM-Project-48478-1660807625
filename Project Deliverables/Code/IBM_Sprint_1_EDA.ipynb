{
  "nbformat": 4,
  "nbformat_minor": 0,
  "metadata": {
    "colab": {
      "provenance": []
    },
    "kernelspec": {
      "name": "python3",
      "display_name": "Python 3"
    },
    "language_info": {
      "name": "python"
    }
  },
  "cells": [
    {
      "cell_type": "code",
      "execution_count": 1,
      "metadata": {
        "id": "kc6EP0pgm3H2"
      },
      "outputs": [],
      "source": [
        "import pandas as pd\n",
        "import numpy as np\n",
        "import matplotlib.pyplot as plt\n",
        "import seaborn as sns"
      ]
    },
    {
      "cell_type": "code",
      "source": [
        "df = pd.read_csv('Heart_Disease_Prediction.csv')\n",
        "df.describe().T"
      ],
      "metadata": {
        "id": "8_pNpEofm8Ca",
        "colab": {
          "base_uri": "https://localhost:8080/",
          "height": 457
        },
        "outputId": "a2320ac0-019b-493f-aea3-627190a3814f"
      },
      "execution_count": 2,
      "outputs": [
        {
          "output_type": "execute_result",
          "data": {
            "text/plain": [
              "                         count        mean        std    min    25%    50%  \\\n",
              "Age                      270.0   54.433333   9.109067   29.0   48.0   55.0   \n",
              "Sex                      270.0    0.677778   0.468195    0.0    0.0    1.0   \n",
              "Chest pain type          270.0    3.174074   0.950090    1.0    3.0    3.0   \n",
              "BP                       270.0  131.344444  17.861608   94.0  120.0  130.0   \n",
              "Cholesterol              270.0  249.659259  51.686237  126.0  213.0  245.0   \n",
              "FBS over 120             270.0    0.148148   0.355906    0.0    0.0    0.0   \n",
              "EKG results              270.0    1.022222   0.997891    0.0    0.0    2.0   \n",
              "Max HR                   270.0  149.677778  23.165717   71.0  133.0  153.5   \n",
              "Exercise angina          270.0    0.329630   0.470952    0.0    0.0    0.0   \n",
              "ST depression            270.0    1.050000   1.145210    0.0    0.0    0.8   \n",
              "Slope of ST              270.0    1.585185   0.614390    1.0    1.0    2.0   \n",
              "Number of vessels fluro  270.0    0.670370   0.943896    0.0    0.0    0.0   \n",
              "Thallium                 270.0    4.696296   1.940659    3.0    3.0    3.0   \n",
              "\n",
              "                           75%    max  \n",
              "Age                       61.0   77.0  \n",
              "Sex                        1.0    1.0  \n",
              "Chest pain type            4.0    4.0  \n",
              "BP                       140.0  200.0  \n",
              "Cholesterol              280.0  564.0  \n",
              "FBS over 120               0.0    1.0  \n",
              "EKG results                2.0    2.0  \n",
              "Max HR                   166.0  202.0  \n",
              "Exercise angina            1.0    1.0  \n",
              "ST depression              1.6    6.2  \n",
              "Slope of ST                2.0    3.0  \n",
              "Number of vessels fluro    1.0    3.0  \n",
              "Thallium                   7.0    7.0  "
            ],
            "text/html": [
              "\n",
              "  <div id=\"df-eb9acf3c-7dd5-40f8-bdc4-af0b6f2ff241\">\n",
              "    <div class=\"colab-df-container\">\n",
              "      <div>\n",
              "<style scoped>\n",
              "    .dataframe tbody tr th:only-of-type {\n",
              "        vertical-align: middle;\n",
              "    }\n",
              "\n",
              "    .dataframe tbody tr th {\n",
              "        vertical-align: top;\n",
              "    }\n",
              "\n",
              "    .dataframe thead th {\n",
              "        text-align: right;\n",
              "    }\n",
              "</style>\n",
              "<table border=\"1\" class=\"dataframe\">\n",
              "  <thead>\n",
              "    <tr style=\"text-align: right;\">\n",
              "      <th></th>\n",
              "      <th>count</th>\n",
              "      <th>mean</th>\n",
              "      <th>std</th>\n",
              "      <th>min</th>\n",
              "      <th>25%</th>\n",
              "      <th>50%</th>\n",
              "      <th>75%</th>\n",
              "      <th>max</th>\n",
              "    </tr>\n",
              "  </thead>\n",
              "  <tbody>\n",
              "    <tr>\n",
              "      <th>Age</th>\n",
              "      <td>270.0</td>\n",
              "      <td>54.433333</td>\n",
              "      <td>9.109067</td>\n",
              "      <td>29.0</td>\n",
              "      <td>48.0</td>\n",
              "      <td>55.0</td>\n",
              "      <td>61.0</td>\n",
              "      <td>77.0</td>\n",
              "    </tr>\n",
              "    <tr>\n",
              "      <th>Sex</th>\n",
              "      <td>270.0</td>\n",
              "      <td>0.677778</td>\n",
              "      <td>0.468195</td>\n",
              "      <td>0.0</td>\n",
              "      <td>0.0</td>\n",
              "      <td>1.0</td>\n",
              "      <td>1.0</td>\n",
              "      <td>1.0</td>\n",
              "    </tr>\n",
              "    <tr>\n",
              "      <th>Chest pain type</th>\n",
              "      <td>270.0</td>\n",
              "      <td>3.174074</td>\n",
              "      <td>0.950090</td>\n",
              "      <td>1.0</td>\n",
              "      <td>3.0</td>\n",
              "      <td>3.0</td>\n",
              "      <td>4.0</td>\n",
              "      <td>4.0</td>\n",
              "    </tr>\n",
              "    <tr>\n",
              "      <th>BP</th>\n",
              "      <td>270.0</td>\n",
              "      <td>131.344444</td>\n",
              "      <td>17.861608</td>\n",
              "      <td>94.0</td>\n",
              "      <td>120.0</td>\n",
              "      <td>130.0</td>\n",
              "      <td>140.0</td>\n",
              "      <td>200.0</td>\n",
              "    </tr>\n",
              "    <tr>\n",
              "      <th>Cholesterol</th>\n",
              "      <td>270.0</td>\n",
              "      <td>249.659259</td>\n",
              "      <td>51.686237</td>\n",
              "      <td>126.0</td>\n",
              "      <td>213.0</td>\n",
              "      <td>245.0</td>\n",
              "      <td>280.0</td>\n",
              "      <td>564.0</td>\n",
              "    </tr>\n",
              "    <tr>\n",
              "      <th>FBS over 120</th>\n",
              "      <td>270.0</td>\n",
              "      <td>0.148148</td>\n",
              "      <td>0.355906</td>\n",
              "      <td>0.0</td>\n",
              "      <td>0.0</td>\n",
              "      <td>0.0</td>\n",
              "      <td>0.0</td>\n",
              "      <td>1.0</td>\n",
              "    </tr>\n",
              "    <tr>\n",
              "      <th>EKG results</th>\n",
              "      <td>270.0</td>\n",
              "      <td>1.022222</td>\n",
              "      <td>0.997891</td>\n",
              "      <td>0.0</td>\n",
              "      <td>0.0</td>\n",
              "      <td>2.0</td>\n",
              "      <td>2.0</td>\n",
              "      <td>2.0</td>\n",
              "    </tr>\n",
              "    <tr>\n",
              "      <th>Max HR</th>\n",
              "      <td>270.0</td>\n",
              "      <td>149.677778</td>\n",
              "      <td>23.165717</td>\n",
              "      <td>71.0</td>\n",
              "      <td>133.0</td>\n",
              "      <td>153.5</td>\n",
              "      <td>166.0</td>\n",
              "      <td>202.0</td>\n",
              "    </tr>\n",
              "    <tr>\n",
              "      <th>Exercise angina</th>\n",
              "      <td>270.0</td>\n",
              "      <td>0.329630</td>\n",
              "      <td>0.470952</td>\n",
              "      <td>0.0</td>\n",
              "      <td>0.0</td>\n",
              "      <td>0.0</td>\n",
              "      <td>1.0</td>\n",
              "      <td>1.0</td>\n",
              "    </tr>\n",
              "    <tr>\n",
              "      <th>ST depression</th>\n",
              "      <td>270.0</td>\n",
              "      <td>1.050000</td>\n",
              "      <td>1.145210</td>\n",
              "      <td>0.0</td>\n",
              "      <td>0.0</td>\n",
              "      <td>0.8</td>\n",
              "      <td>1.6</td>\n",
              "      <td>6.2</td>\n",
              "    </tr>\n",
              "    <tr>\n",
              "      <th>Slope of ST</th>\n",
              "      <td>270.0</td>\n",
              "      <td>1.585185</td>\n",
              "      <td>0.614390</td>\n",
              "      <td>1.0</td>\n",
              "      <td>1.0</td>\n",
              "      <td>2.0</td>\n",
              "      <td>2.0</td>\n",
              "      <td>3.0</td>\n",
              "    </tr>\n",
              "    <tr>\n",
              "      <th>Number of vessels fluro</th>\n",
              "      <td>270.0</td>\n",
              "      <td>0.670370</td>\n",
              "      <td>0.943896</td>\n",
              "      <td>0.0</td>\n",
              "      <td>0.0</td>\n",
              "      <td>0.0</td>\n",
              "      <td>1.0</td>\n",
              "      <td>3.0</td>\n",
              "    </tr>\n",
              "    <tr>\n",
              "      <th>Thallium</th>\n",
              "      <td>270.0</td>\n",
              "      <td>4.696296</td>\n",
              "      <td>1.940659</td>\n",
              "      <td>3.0</td>\n",
              "      <td>3.0</td>\n",
              "      <td>3.0</td>\n",
              "      <td>7.0</td>\n",
              "      <td>7.0</td>\n",
              "    </tr>\n",
              "  </tbody>\n",
              "</table>\n",
              "</div>\n",
              "      <button class=\"colab-df-convert\" onclick=\"convertToInteractive('df-eb9acf3c-7dd5-40f8-bdc4-af0b6f2ff241')\"\n",
              "              title=\"Convert this dataframe to an interactive table.\"\n",
              "              style=\"display:none;\">\n",
              "        \n",
              "  <svg xmlns=\"http://www.w3.org/2000/svg\" height=\"24px\"viewBox=\"0 0 24 24\"\n",
              "       width=\"24px\">\n",
              "    <path d=\"M0 0h24v24H0V0z\" fill=\"none\"/>\n",
              "    <path d=\"M18.56 5.44l.94 2.06.94-2.06 2.06-.94-2.06-.94-.94-2.06-.94 2.06-2.06.94zm-11 1L8.5 8.5l.94-2.06 2.06-.94-2.06-.94L8.5 2.5l-.94 2.06-2.06.94zm10 10l.94 2.06.94-2.06 2.06-.94-2.06-.94-.94-2.06-.94 2.06-2.06.94z\"/><path d=\"M17.41 7.96l-1.37-1.37c-.4-.4-.92-.59-1.43-.59-.52 0-1.04.2-1.43.59L10.3 9.45l-7.72 7.72c-.78.78-.78 2.05 0 2.83L4 21.41c.39.39.9.59 1.41.59.51 0 1.02-.2 1.41-.59l7.78-7.78 2.81-2.81c.8-.78.8-2.07 0-2.86zM5.41 20L4 18.59l7.72-7.72 1.47 1.35L5.41 20z\"/>\n",
              "  </svg>\n",
              "      </button>\n",
              "      \n",
              "  <style>\n",
              "    .colab-df-container {\n",
              "      display:flex;\n",
              "      flex-wrap:wrap;\n",
              "      gap: 12px;\n",
              "    }\n",
              "\n",
              "    .colab-df-convert {\n",
              "      background-color: #E8F0FE;\n",
              "      border: none;\n",
              "      border-radius: 50%;\n",
              "      cursor: pointer;\n",
              "      display: none;\n",
              "      fill: #1967D2;\n",
              "      height: 32px;\n",
              "      padding: 0 0 0 0;\n",
              "      width: 32px;\n",
              "    }\n",
              "\n",
              "    .colab-df-convert:hover {\n",
              "      background-color: #E2EBFA;\n",
              "      box-shadow: 0px 1px 2px rgba(60, 64, 67, 0.3), 0px 1px 3px 1px rgba(60, 64, 67, 0.15);\n",
              "      fill: #174EA6;\n",
              "    }\n",
              "\n",
              "    [theme=dark] .colab-df-convert {\n",
              "      background-color: #3B4455;\n",
              "      fill: #D2E3FC;\n",
              "    }\n",
              "\n",
              "    [theme=dark] .colab-df-convert:hover {\n",
              "      background-color: #434B5C;\n",
              "      box-shadow: 0px 1px 3px 1px rgba(0, 0, 0, 0.15);\n",
              "      filter: drop-shadow(0px 1px 2px rgba(0, 0, 0, 0.3));\n",
              "      fill: #FFFFFF;\n",
              "    }\n",
              "  </style>\n",
              "\n",
              "      <script>\n",
              "        const buttonEl =\n",
              "          document.querySelector('#df-eb9acf3c-7dd5-40f8-bdc4-af0b6f2ff241 button.colab-df-convert');\n",
              "        buttonEl.style.display =\n",
              "          google.colab.kernel.accessAllowed ? 'block' : 'none';\n",
              "\n",
              "        async function convertToInteractive(key) {\n",
              "          const element = document.querySelector('#df-eb9acf3c-7dd5-40f8-bdc4-af0b6f2ff241');\n",
              "          const dataTable =\n",
              "            await google.colab.kernel.invokeFunction('convertToInteractive',\n",
              "                                                     [key], {});\n",
              "          if (!dataTable) return;\n",
              "\n",
              "          const docLinkHtml = 'Like what you see? Visit the ' +\n",
              "            '<a target=\"_blank\" href=https://colab.research.google.com/notebooks/data_table.ipynb>data table notebook</a>'\n",
              "            + ' to learn more about interactive tables.';\n",
              "          element.innerHTML = '';\n",
              "          dataTable['output_type'] = 'display_data';\n",
              "          await google.colab.output.renderOutput(dataTable, element);\n",
              "          const docLink = document.createElement('div');\n",
              "          docLink.innerHTML = docLinkHtml;\n",
              "          element.appendChild(docLink);\n",
              "        }\n",
              "      </script>\n",
              "    </div>\n",
              "  </div>\n",
              "  "
            ]
          },
          "metadata": {},
          "execution_count": 2
        }
      ]
    },
    {
      "cell_type": "code",
      "source": [
        "df.columns.values"
      ],
      "metadata": {
        "id": "pt9Iqbrom8Fa",
        "colab": {
          "base_uri": "https://localhost:8080/"
        },
        "outputId": "4e86aab9-acc2-49c2-c473-b75c49b95c29"
      },
      "execution_count": 3,
      "outputs": [
        {
          "output_type": "execute_result",
          "data": {
            "text/plain": [
              "array(['Age', 'Sex', 'Chest pain type', 'BP', 'Cholesterol',\n",
              "       'FBS over 120', 'EKG results', 'Max HR', 'Exercise angina',\n",
              "       'ST depression', 'Slope of ST', 'Number of vessels fluro',\n",
              "       'Thallium', 'Heart Disease'], dtype=object)"
            ]
          },
          "metadata": {},
          "execution_count": 3
        }
      ]
    },
    {
      "cell_type": "code",
      "source": [
        "df.nunique()"
      ],
      "metadata": {
        "id": "Rc9BQ8KDm8K2",
        "colab": {
          "base_uri": "https://localhost:8080/"
        },
        "outputId": "899d927f-80a5-4190-afdd-9951ed3aee57"
      },
      "execution_count": 4,
      "outputs": [
        {
          "output_type": "execute_result",
          "data": {
            "text/plain": [
              "Age                         41\n",
              "Sex                          2\n",
              "Chest pain type              4\n",
              "BP                          47\n",
              "Cholesterol                144\n",
              "FBS over 120                 2\n",
              "EKG results                  3\n",
              "Max HR                      90\n",
              "Exercise angina              2\n",
              "ST depression               39\n",
              "Slope of ST                  3\n",
              "Number of vessels fluro      4\n",
              "Thallium                     3\n",
              "Heart Disease                2\n",
              "dtype: int64"
            ]
          },
          "metadata": {},
          "execution_count": 4
        }
      ]
    },
    {
      "cell_type": "code",
      "source": [
        "labels = ['Male', 'Female']\n",
        "order = df['Sex'].value_counts().index\n",
        "\n",
        "plt.figure(figsize=(10,5))\n",
        "plt.suptitle(\"Sex (Gender)\")\n",
        "\n",
        "plt.subplot(1,2,2)\n",
        "plt.title('Count plot')\n",
        "sns.countplot(x='Sex', data=df, order=order)\n",
        "plt.xticks([0, 1], labels)\n",
        "\n",
        "plt.show()\n",
        "\n",
        "print(df['Sex'].value_counts())\n",
        "print(\"It can be noticed that predictor (Gender) is imbalance\")"
      ],
      "metadata": {
        "id": "wjeadueLm8N_",
        "colab": {
          "base_uri": "https://localhost:8080/",
          "height": 439
        },
        "outputId": "1f9737eb-db45-44b2-a4fb-0cc11ad4aa20"
      },
      "execution_count": 5,
      "outputs": [
        {
          "output_type": "display_data",
          "data": {
            "text/plain": [
              "<Figure size 720x360 with 1 Axes>"
            ],
            "image/png": "[encoded data removed]"
          },
          "metadata": {
            "needs_background": "light"
          }
        },
        {
          "output_type": "stream",
          "name": "stdout",
          "text": [
            "1    183\n",
            "0     87\n",
            "Name: Sex, dtype: int64\n",
            "It can be noticed that predictor (Gender) is imbalance\n"
          ]
        }
      ]
    },
    {
      "cell_type": "code",
      "source": [
        "labels = [\"typical angina\", \"atypical angina\", \"non-anginal pain\", \"asymptomatic\"]\n",
        "order = df['Chest pain type'].value_counts().index\n",
        "\n",
        "plt.figure(figsize=(10,5))\n",
        "plt.suptitle(\"Chest pain type\")\n",
        "\n",
        "plt.subplot(1,2,1)\n",
        "plt.title('Pie chart')\n",
        "plt.pie(df['Chest pain type'].value_counts(), textprops={'fontsize':12})\n",
        "plt.subplots_adjust(left=0.125)\n",
        "\n",
        "plt.subplot(1,2,2)\n",
        "plt.title('Count plot')\n",
        "sns.countplot(x='Chest pain type', data=df, order=order)\n",
        "plt.xticks([0,1,2,3], labels, rotation=45)\n",
        "\n",
        "plt.show()\n",
        "\n",
        "df['Chest pain type'].value_counts()\n"
      ],
      "metadata": {
        "id": "naVnSD2Tm8Rb",
        "colab": {
          "base_uri": "https://localhost:8080/",
          "height": 513
        },
        "outputId": "6355690a-d662-4b8a-bdd7-1998a0a07a61"
      },
      "execution_count": 6,
      "outputs": [
        {
          "output_type": "display_data",
          "data": {
            "text/plain": [
              "<Figure size 720x360 with 2 Axes>"
            ],
            "image/png": "[encoded data removed]"
          },
          "metadata": {
            "needs_background": "light"
          }
        },
        {
          "output_type": "execute_result",
          "data": {
            "text/plain": [
              "4    129\n",
              "3     79\n",
              "2     42\n",
              "1     20\n",
              "Name: Chest pain type, dtype: int64"
            ]
          },
          "metadata": {},
          "execution_count": 6
        }
      ]
    },
    {
      "cell_type": "code",
      "source": [
        "target = df['Heart Disease'].map({'Presence':1, 'Absence':0})\n",
        "inputs = df.drop(['Heart Disease'], axis=1)"
      ],
      "metadata": {
        "id": "G-Qoe2kxm8Uc"
      },
      "execution_count": 7,
      "outputs": []
    },
    {
      "cell_type": "code",
      "source": [
        "plt.suptitle(\"Correlation Map/Pearson correlation coefficient\")\n",
        "sns.heatmap(df.iloc[:,1:-1].corr())\n",
        "\n",
        "plt.show()\n",
        "\n",
        "plt.suptitle(\"Age\")\n",
        "sns.scatterplot(data=df, x='Age', y=np.zeros(len(df['Age'])), hue=target)\n",
        "plt.show()"
      ],
      "metadata": {
        "colab": {
          "base_uri": "https://localhost:8080/",
          "height": 694
        },
        "id": "NBRFMfy8tCTa",
        "outputId": "4cd6bc8c-0855-49d4-8844-12e24409956e"
      },
      "execution_count": 8,
      "outputs": [
        {
          "output_type": "display_data",
          "data": {
            "text/plain": [
              "<Figure size 432x288 with 2 Axes>"
            ],
            "image/png": "[encoded data removed]"
          },
          "metadata": {
            "needs_background": "light"
          }
        },
        {
          "output_type": "display_data",
          "data": {
            "text/plain": [
              "<Figure size 432x288 with 1 Axes>"
            ],
            "image/png": "[encoded data removed]"
          },
          "metadata": {
            "needs_background": "light"
          }
        }
      ]
    },
    {
      "cell_type": "code",
      "source": [
        "plt.suptitle('Chest pain type vs Heart Disease')\n",
        "sns.countplot(data=df, x='Heart Disease', hue='Chest pain type')\n",
        "plt.show()"
      ],
      "metadata": {
        "colab": {
          "base_uri": "https://localhost:8080/",
          "height": 308
        },
        "id": "WoQNSi8jtCW7",
        "outputId": "b452dd77-6bb0-406a-945f-35e395a95c5f"
      },
      "execution_count": 9,
      "outputs": [
        {
          "output_type": "display_data",
          "data": {
            "text/plain": [
              "<Figure size 432x288 with 1 Axes>"
            ],
            "image/png": "[encoded data removed]"
          },
          "metadata": {
            "needs_background": "light"
          }
        }
      ]
    },
    {
      "cell_type": "code",
      "source": [
        "plt.figure(figsize=(10,5))\n",
        "\n",
        "plt.subplot(1,2,1)\n",
        "plt.suptitle(\"BP\")\n",
        "sns.scatterplot(data=df, x='BP', y=np.zeros(len(df['BP'])), hue=target)\n",
        "\n",
        "plt.subplot(1,2,2)\n",
        "sns.scatterplot(data=df, x='BP', y='Age', hue=target)\n",
        "\n",
        "\n",
        "plt.show()"
      ],
      "metadata": {
        "colab": {
          "base_uri": "https://localhost:8080/",
          "height": 370
        },
        "id": "lEJ0X2MytCaf",
        "outputId": "59848ae9-33da-4bc4-8c1c-0ebee6a4f9ce"
      },
      "execution_count": 10,
      "outputs": [
        {
          "output_type": "display_data",
          "data": {
            "text/plain": [
              "<Figure size 720x360 with 2 Axes>"
            ],
            "image/png": "[encoded data removed]"
          },
          "metadata": {
            "needs_background": "light"
          }
        }
      ]
    },
    {
      "cell_type": "code",
      "source": [
        "ax = sns.countplot(x='Heart Disease', hue='FBS over 120', data=df)\n",
        "plt.show()"
      ],
      "metadata": {
        "colab": {
          "base_uri": "https://localhost:8080/",
          "height": 279
        },
        "id": "aUanck2BtCdt",
        "outputId": "466c2de1-a08d-4198-973a-3d72ea06faa7"
      },
      "execution_count": 11,
      "outputs": [
        {
          "output_type": "display_data",
          "data": {
            "text/plain": [
              "<Figure size 432x288 with 1 Axes>"
            ],
            "image/png": "[encoded data removed]"
          },
          "metadata": {
            "needs_background": "light"
          }
        }
      ]
    },
    {
      "cell_type": "code",
      "source": [
        "plt.suptitle('EKG results vs Heart Disease')\n",
        "sns.countplot(data=df, x='Heart Disease', hue='EKG results')\n",
        "plt.show()"
      ],
      "metadata": {
        "colab": {
          "base_uri": "https://localhost:8080/",
          "height": 308
        },
        "id": "ZCeIZTSctCg1",
        "outputId": "213ce6a8-91ee-4d54-844f-ed34811b285b"
      },
      "execution_count": 12,
      "outputs": [
        {
          "output_type": "display_data",
          "data": {
            "text/plain": [
              "<Figure size 432x288 with 1 Axes>"
            ],
            "image/png": "[encoded data removed]"
          },
          "metadata": {
            "needs_background": "light"
          }
        }
      ]
    },
    {
      "cell_type": "code",
      "source": [
        "Chest_pain_type = pd.get_dummies(df['Chest pain type'], prefix='Chest pain type', drop_first=True)\n",
        "EKG_results = pd.get_dummies(df['EKG results'], prefix='EKG results', drop_first=True)\n",
        "Number_of_vessels_fluro = pd.get_dummies(df['Number of vessels fluro'], prefix='Number of vessels fluro', drop_first=True)\n",
        "Thallium = pd.get_dummies(df['Thallium'], prefix='Thallium', drop_first=True)\n",
        "\n",
        "frames = [df, Chest_pain_type, EKG_results, Number_of_vessels_fluro, Thallium]\n",
        "df = pd.concat(frames, axis=1)\n",
        "\n",
        "df.drop(columns = ['Chest pain type', 'EKG results', 'Number of vessels fluro', 'Thallium', 'Slope of ST'])\n",
        "\n",
        "target = df['Heart Disease'].map({'Presence':1, 'Absence':0})\n",
        "inputs = df.drop(['Heart Disease'], axis=1)\n",
        "\n",
        "df.describe().T"
      ],
      "metadata": {
        "id": "O0w7CZoUtCjv",
        "colab": {
          "base_uri": "https://localhost:8080/",
          "height": 770
        },
        "outputId": "a4c2b264-b718-4ac4-b83f-42c509b120c8"
      },
      "execution_count": 13,
      "outputs": [
        {
          "output_type": "execute_result",
          "data": {
            "text/plain": [
              "                           count        mean        std    min    25%    50%  \\\n",
              "Age                        270.0   54.433333   9.109067   29.0   48.0   55.0   \n",
              "Sex                        270.0    0.677778   0.468195    0.0    0.0    1.0   \n",
              "Chest pain type            270.0    3.174074   0.950090    1.0    3.0    3.0   \n",
              "BP                         270.0  131.344444  17.861608   94.0  120.0  130.0   \n",
              "Cholesterol                270.0  249.659259  51.686237  126.0  213.0  245.0   \n",
              "FBS over 120               270.0    0.148148   0.355906    0.0    0.0    0.0   \n",
              "EKG results                270.0    1.022222   0.997891    0.0    0.0    2.0   \n",
              "Max HR                     270.0  149.677778  23.165717   71.0  133.0  153.5   \n",
              "Exercise angina            270.0    0.329630   0.470952    0.0    0.0    0.0   \n",
              "ST depression              270.0    1.050000   1.145210    0.0    0.0    0.8   \n",
              "Slope of ST                270.0    1.585185   0.614390    1.0    1.0    2.0   \n",
              "Number of vessels fluro    270.0    0.670370   0.943896    0.0    0.0    0.0   \n",
              "Thallium                   270.0    4.696296   1.940659    3.0    3.0    3.0   \n",
              "Chest pain type_2          270.0    0.155556   0.363107    0.0    0.0    0.0   \n",
              "Chest pain type_3          270.0    0.292593   0.455798    0.0    0.0    0.0   \n",
              "Chest pain type_4          270.0    0.477778   0.500434    0.0    0.0    0.0   \n",
              "EKG results_1              270.0    0.007407   0.085906    0.0    0.0    0.0   \n",
              "EKG results_2              270.0    0.507407   0.500874    0.0    0.0    1.0   \n",
              "Number of vessels fluro_1  270.0    0.214815   0.411456    0.0    0.0    0.0   \n",
              "Number of vessels fluro_2  270.0    0.122222   0.328151    0.0    0.0    0.0   \n",
              "Number of vessels fluro_3  270.0    0.070370   0.256245    0.0    0.0    0.0   \n",
              "Thallium_6                 270.0    0.051852   0.222140    0.0    0.0    0.0   \n",
              "Thallium_7                 270.0    0.385185   0.487543    0.0    0.0    0.0   \n",
              "\n",
              "                             75%    max  \n",
              "Age                         61.0   77.0  \n",
              "Sex                          1.0    1.0  \n",
              "Chest pain type              4.0    4.0  \n",
              "BP                         140.0  200.0  \n",
              "Cholesterol                280.0  564.0  \n",
              "FBS over 120                 0.0    1.0  \n",
              "EKG results                  2.0    2.0  \n",
              "Max HR                     166.0  202.0  \n",
              "Exercise angina              1.0    1.0  \n",
              "ST depression                1.6    6.2  \n",
              "Slope of ST                  2.0    3.0  \n",
              "Number of vessels fluro      1.0    3.0  \n",
              "Thallium                     7.0    7.0  \n",
              "Chest pain type_2            0.0    1.0  \n",
              "Chest pain type_3            1.0    1.0  \n",
              "Chest pain type_4            1.0    1.0  \n",
              "EKG results_1                0.0    1.0  \n",
              "EKG results_2                1.0    1.0  \n",
              "Number of vessels fluro_1    0.0    1.0  \n",
              "Number of vessels fluro_2    0.0    1.0  \n",
              "Number of vessels fluro_3    0.0    1.0  \n",
              "Thallium_6                   0.0    1.0  \n",
              "Thallium_7                   1.0    1.0  "
            ],
            "text/html": [
              "\n",
              "  <div id=\"df-ba073c23-d999-40f7-9325-29c5a01801d9\">\n",
              "    <div class=\"colab-df-container\">\n",
              "      <div>\n",
              "<style scoped>\n",
              "    .dataframe tbody tr th:only-of-type {\n",
              "        vertical-align: middle;\n",
              "    }\n",
              "\n",
              "    .dataframe tbody tr th {\n",
              "        vertical-align: top;\n",
              "    }\n",
              "\n",
              "    .dataframe thead th {\n",
              "        text-align: right;\n",
              "    }\n",
              "</style>\n",
              "<table border=\"1\" class=\"dataframe\">\n",
              "  <thead>\n",
              "    <tr style=\"text-align: right;\">\n",
              "      <th></th>\n",
              "      <th>count</th>\n",
              "      <th>mean</th>\n",
              "      <th>std</th>\n",
              "      <th>min</th>\n",
              "      <th>25%</th>\n",
              "      <th>50%</th>\n",
              "      <th>75%</th>\n",
              "      <th>max</th>\n",
              "    </tr>\n",
              "  </thead>\n",
              "  <tbody>\n",
              "    <tr>\n",
              "      <th>Age</th>\n",
              "      <td>270.0</td>\n",
              "      <td>54.433333</td>\n",
              "      <td>9.109067</td>\n",
              "      <td>29.0</td>\n",
              "      <td>48.0</td>\n",
              "      <td>55.0</td>\n",
              "      <td>61.0</td>\n",
              "      <td>77.0</td>\n",
              "    </tr>\n",
              "    <tr>\n",
              "      <th>Sex</th>\n",
              "      <td>270.0</td>\n",
              "      <td>0.677778</td>\n",
              "      <td>0.468195</td>\n",
              "      <td>0.0</td>\n",
              "      <td>0.0</td>\n",
              "      <td>1.0</td>\n",
              "      <td>1.0</td>\n",
              "      <td>1.0</td>\n",
              "    </tr>\n",
              "    <tr>\n",
              "      <th>Chest pain type</th>\n",
              "      <td>270.0</td>\n",
              "      <td>3.174074</td>\n",
              "      <td>0.950090</td>\n",
              "      <td>1.0</td>\n",
              "      <td>3.0</td>\n",
              "      <td>3.0</td>\n",
              "      <td>4.0</td>\n",
              "      <td>4.0</td>\n",
              "    </tr>\n",
              "    <tr>\n",
              "      <th>BP</th>\n",
              "      <td>270.0</td>\n",
              "      <td>131.344444</td>\n",
              "      <td>17.861608</td>\n",
              "      <td>94.0</td>\n",
              "      <td>120.0</td>\n",
              "      <td>130.0</td>\n",
              "      <td>140.0</td>\n",
              "      <td>200.0</td>\n",
              "    </tr>\n",
              "    <tr>\n",
              "      <th>Cholesterol</th>\n",
              "      <td>270.0</td>\n",
              "      <td>249.659259</td>\n",
              "      <td>51.686237</td>\n",
              "      <td>126.0</td>\n",
              "      <td>213.0</td>\n",
              "      <td>245.0</td>\n",
              "      <td>280.0</td>\n",
              "      <td>564.0</td>\n",
              "    </tr>\n",
              "    <tr>\n",
              "      <th>FBS over 120</th>\n",
              "      <td>270.0</td>\n",
              "      <td>0.148148</td>\n",
              "      <td>0.355906</td>\n",
              "      <td>0.0</td>\n",
              "      <td>0.0</td>\n",
              "      <td>0.0</td>\n",
              "      <td>0.0</td>\n",
              "      <td>1.0</td>\n",
              "    </tr>\n",
              "    <tr>\n",
              "      <th>EKG results</th>\n",
              "      <td>270.0</td>\n",
              "      <td>1.022222</td>\n",
              "      <td>0.997891</td>\n",
              "      <td>0.0</td>\n",
              "      <td>0.0</td>\n",
              "      <td>2.0</td>\n",
              "      <td>2.0</td>\n",
              "      <td>2.0</td>\n",
              "    </tr>\n",
              "    <tr>\n",
              "      <th>Max HR</th>\n",
              "      <td>270.0</td>\n",
              "      <td>149.677778</td>\n",
              "      <td>23.165717</td>\n",
              "      <td>71.0</td>\n",
              "      <td>133.0</td>\n",
              "      <td>153.5</td>\n",
              "      <td>166.0</td>\n",
              "      <td>202.0</td>\n",
              "    </tr>\n",
              "    <tr>\n",
              "      <th>Exercise angina</th>\n",
              "      <td>270.0</td>\n",
              "      <td>0.329630</td>\n",
              "      <td>0.470952</td>\n",
              "      <td>0.0</td>\n",
              "      <td>0.0</td>\n",
              "      <td>0.0</td>\n",
              "      <td>1.0</td>\n",
              "      <td>1.0</td>\n",
              "    </tr>\n",
              "    <tr>\n",
              "      <th>ST depression</th>\n",
              "      <td>270.0</td>\n",
              "      <td>1.050000</td>\n",
              "      <td>1.145210</td>\n",
              "      <td>0.0</td>\n",
              "      <td>0.0</td>\n",
              "      <td>0.8</td>\n",
              "      <td>1.6</td>\n",
              "      <td>6.2</td>\n",
              "    </tr>\n",
              "    <tr>\n",
              "      <th>Slope of ST</th>\n",
              "      <td>270.0</td>\n",
              "      <td>1.585185</td>\n",
              "      <td>0.614390</td>\n",
              "      <td>1.0</td>\n",
              "      <td>1.0</td>\n",
              "      <td>2.0</td>\n",
              "      <td>2.0</td>\n",
              "      <td>3.0</td>\n",
              "    </tr>\n",
              "    <tr>\n",
              "      <th>Number of vessels fluro</th>\n",
              "      <td>270.0</td>\n",
              "      <td>0.670370</td>\n",
              "      <td>0.943896</td>\n",
              "      <td>0.0</td>\n",
              "      <td>0.0</td>\n",
              "      <td>0.0</td>\n",
              "      <td>1.0</td>\n",
              "      <td>3.0</td>\n",
              "    </tr>\n",
              "    <tr>\n",
              "      <th>Thallium</th>\n",
              "      <td>270.0</td>\n",
              "      <td>4.696296</td>\n",
              "      <td>1.940659</td>\n",
              "      <td>3.0</td>\n",
              "      <td>3.0</td>\n",
              "      <td>3.0</td>\n",
              "      <td>7.0</td>\n",
              "      <td>7.0</td>\n",
              "    </tr>\n",
              "    <tr>\n",
              "      <th>Chest pain type_2</th>\n",
              "      <td>270.0</td>\n",
              "      <td>0.155556</td>\n",
              "      <td>0.363107</td>\n",
              "      <td>0.0</td>\n",
              "      <td>0.0</td>\n",
              "      <td>0.0</td>\n",
              "      <td>0.0</td>\n",
              "      <td>1.0</td>\n",
              "    </tr>\n",
              "    <tr>\n",
              "      <th>Chest pain type_3</th>\n",
              "      <td>270.0</td>\n",
              "      <td>0.292593</td>\n",
              "      <td>0.455798</td>\n",
              "      <td>0.0</td>\n",
              "      <td>0.0</td>\n",
              "      <td>0.0</td>\n",
              "      <td>1.0</td>\n",
              "      <td>1.0</td>\n",
              "    </tr>\n",
              "    <tr>\n",
              "      <th>Chest pain type_4</th>\n",
              "      <td>270.0</td>\n",
              "      <td>0.477778</td>\n",
              "      <td>0.500434</td>\n",
              "      <td>0.0</td>\n",
              "      <td>0.0</td>\n",
              "      <td>0.0</td>\n",
              "      <td>1.0</td>\n",
              "      <td>1.0</td>\n",
              "    </tr>\n",
              "    <tr>\n",
              "      <th>EKG results_1</th>\n",
              "      <td>270.0</td>\n",
              "      <td>0.007407</td>\n",
              "      <td>0.085906</td>\n",
              "      <td>0.0</td>\n",
              "      <td>0.0</td>\n",
              "      <td>0.0</td>\n",
              "      <td>0.0</td>\n",
              "      <td>1.0</td>\n",
              "    </tr>\n",
              "    <tr>\n",
              "      <th>EKG results_2</th>\n",
              "      <td>270.0</td>\n",
              "      <td>0.507407</td>\n",
              "      <td>0.500874</td>\n",
              "      <td>0.0</td>\n",
              "      <td>0.0</td>\n",
              "      <td>1.0</td>\n",
              "      <td>1.0</td>\n",
              "      <td>1.0</td>\n",
              "    </tr>\n",
              "    <tr>\n",
              "      <th>Number of vessels fluro_1</th>\n",
              "      <td>270.0</td>\n",
              "      <td>0.214815</td>\n",
              "      <td>0.411456</td>\n",
              "      <td>0.0</td>\n",
              "      <td>0.0</td>\n",
              "      <td>0.0</td>\n",
              "      <td>0.0</td>\n",
              "      <td>1.0</td>\n",
              "    </tr>\n",
              "    <tr>\n",
              "      <th>Number of vessels fluro_2</th>\n",
              "      <td>270.0</td>\n",
              "      <td>0.122222</td>\n",
              "      <td>0.328151</td>\n",
              "      <td>0.0</td>\n",
              "      <td>0.0</td>\n",
              "      <td>0.0</td>\n",
              "      <td>0.0</td>\n",
              "      <td>1.0</td>\n",
              "    </tr>\n",
              "    <tr>\n",
              "      <th>Number of vessels fluro_3</th>\n",
              "      <td>270.0</td>\n",
              "      <td>0.070370</td>\n",
              "      <td>0.256245</td>\n",
              "      <td>0.0</td>\n",
              "      <td>0.0</td>\n",
              "      <td>0.0</td>\n",
              "      <td>0.0</td>\n",
              "      <td>1.0</td>\n",
              "    </tr>\n",
              "    <tr>\n",
              "      <th>Thallium_6</th>\n",
              "      <td>270.0</td>\n",
              "      <td>0.051852</td>\n",
              "      <td>0.222140</td>\n",
              "      <td>0.0</td>\n",
              "      <td>0.0</td>\n",
              "      <td>0.0</td>\n",
              "      <td>0.0</td>\n",
              "      <td>1.0</td>\n",
              "    </tr>\n",
              "    <tr>\n",
              "      <th>Thallium_7</th>\n",
              "      <td>270.0</td>\n",
              "      <td>0.385185</td>\n",
              "      <td>0.487543</td>\n",
              "      <td>0.0</td>\n",
              "      <td>0.0</td>\n",
              "      <td>0.0</td>\n",
              "      <td>1.0</td>\n",
              "      <td>1.0</td>\n",
              "    </tr>\n",
              "  </tbody>\n",
              "</table>\n",
              "</div>\n",
              "      <button class=\"colab-df-convert\" onclick=\"convertToInteractive('df-ba073c23-d999-40f7-9325-29c5a01801d9')\"\n",
              "              title=\"Convert this dataframe to an interactive table.\"\n",
              "              style=\"display:none;\">\n",
              "        \n",
              "  <svg xmlns=\"http://www.w3.org/2000/svg\" height=\"24px\"viewBox=\"0 0 24 24\"\n",
              "       width=\"24px\">\n",
              "    <path d=\"M0 0h24v24H0V0z\" fill=\"none\"/>\n",
              "    <path d=\"M18.56 5.44l.94 2.06.94-2.06 2.06-.94-2.06-.94-.94-2.06-.94 2.06-2.06.94zm-11 1L8.5 8.5l.94-2.06 2.06-.94-2.06-.94L8.5 2.5l-.94 2.06-2.06.94zm10 10l.94 2.06.94-2.06 2.06-.94-2.06-.94-.94-2.06-.94 2.06-2.06.94z\"/><path d=\"M17.41 7.96l-1.37-1.37c-.4-.4-.92-.59-1.43-.59-.52 0-1.04.2-1.43.59L10.3 9.45l-7.72 7.72c-.78.78-.78 2.05 0 2.83L4 21.41c.39.39.9.59 1.41.59.51 0 1.02-.2 1.41-.59l7.78-7.78 2.81-2.81c.8-.78.8-2.07 0-2.86zM5.41 20L4 18.59l7.72-7.72 1.47 1.35L5.41 20z\"/>\n",
              "  </svg>\n",
              "      </button>\n",
              "      \n",
              "  <style>\n",
              "    .colab-df-container {\n",
              "      display:flex;\n",
              "      flex-wrap:wrap;\n",
              "      gap: 12px;\n",
              "    }\n",
              "\n",
              "    .colab-df-convert {\n",
              "      background-color: #E8F0FE;\n",
              "      border: none;\n",
              "      border-radius: 50%;\n",
              "      cursor: pointer;\n",
              "      display: none;\n",
              "      fill: #1967D2;\n",
              "      height: 32px;\n",
              "      padding: 0 0 0 0;\n",
              "      width: 32px;\n",
              "    }\n",
              "\n",
              "    .colab-df-convert:hover {\n",
              "      background-color: #E2EBFA;\n",
              "      box-shadow: 0px 1px 2px rgba(60, 64, 67, 0.3), 0px 1px 3px 1px rgba(60, 64, 67, 0.15);\n",
              "      fill: #174EA6;\n",
              "    }\n",
              "\n",
              "    [theme=dark] .colab-df-convert {\n",
              "      background-color: #3B4455;\n",
              "      fill: #D2E3FC;\n",
              "    }\n",
              "\n",
              "    [theme=dark] .colab-df-convert:hover {\n",
              "      background-color: #434B5C;\n",
              "      box-shadow: 0px 1px 3px 1px rgba(0, 0, 0, 0.15);\n",
              "      filter: drop-shadow(0px 1px 2px rgba(0, 0, 0, 0.3));\n",
              "      fill: #FFFFFF;\n",
              "    }\n",
              "  </style>\n",
              "\n",
              "      <script>\n",
              "        const buttonEl =\n",
              "          document.querySelector('#df-ba073c23-d999-40f7-9325-29c5a01801d9 button.colab-df-convert');\n",
              "        buttonEl.style.display =\n",
              "          google.colab.kernel.accessAllowed ? 'block' : 'none';\n",
              "\n",
              "        async function convertToInteractive(key) {\n",
              "          const element = document.querySelector('#df-ba073c23-d999-40f7-9325-29c5a01801d9');\n",
              "          const dataTable =\n",
              "            await google.colab.kernel.invokeFunction('convertToInteractive',\n",
              "                                                     [key], {});\n",
              "          if (!dataTable) return;\n",
              "\n",
              "          const docLinkHtml = 'Like what you see? Visit the ' +\n",
              "            '<a target=\"_blank\" href=https://colab.research.google.com/notebooks/data_table.ipynb>data table notebook</a>'\n",
              "            + ' to learn more about interactive tables.';\n",
              "          element.innerHTML = '';\n",
              "          dataTable['output_type'] = 'display_data';\n",
              "          await google.colab.output.renderOutput(dataTable, element);\n",
              "          const docLink = document.createElement('div');\n",
              "          docLink.innerHTML = docLinkHtml;\n",
              "          element.appendChild(docLink);\n",
              "        }\n",
              "      </script>\n",
              "    </div>\n",
              "  </div>\n",
              "  "
            ]
          },
          "metadata": {},
          "execution_count": 13
        }
      ]
    }
  ]
}